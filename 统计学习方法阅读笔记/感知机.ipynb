{
 "cells": [
  {
   "cell_type": "code",
   "execution_count": 1,
   "metadata": {
    "collapsed": true
   },
   "outputs": [],
   "source": [
    "%matplotlib inline\n",
    "import numpy as np\n",
    "import pandas as pd\n",
    "import matplotlib.pyplot as plt"
   ]
  },
  {
   "cell_type": "markdown",
   "metadata": {},
   "source": [
    "### 初始化线性可分的点"
   ]
  },
  {
   "cell_type": "code",
   "execution_count": 17,
   "metadata": {},
   "outputs": [
    {
     "name": "stdout",
     "output_type": "stream",
     "text": [
      "[[8, 7, 1], [10, 10, 1], [7, 8, 1], [3, 0, -1], [5, 1, -1], [0, 4, -1]]\n"
     ]
    },
    {
     "data": {
      "image/png": "[encoded data removed]",
      "text/plain": [
       "<matplotlib.figure.Figure at 0x115a57b38>"
      ]
     },
     "metadata": {},
     "output_type": "display_data"
    }
   ],
   "source": [
    "np.random.seed(1)\n",
    "x1_true = np.random.randint(7,11,3)\n",
    "x2_true = np.random.randint(7,11,3)\n",
    "x1_false = np.random.randint(0,6,3)\n",
    "x2_false = np.random.randint(0,6,3)\n",
    "plt.plot(x1_true, x2_true, 'o')\n",
    "plt.plot(x1_false, x2_false, 'o')\n",
    "\n",
    "points = [[x1_true[i], x2_true[i], 1] for i in range(3)]\n",
    "points.extend([[x1_false[i], x2_false[i], -1] for i in range(3)])\n",
    "print (points)\n",
    "\n",
    "plt.show()"
   ]
  },
  {
   "cell_type": "markdown",
   "metadata": {},
   "source": [
    "### 实现感知机算法"
   ]
  },
  {
   "cell_type": "markdown",
   "metadata": {},
   "source": [
    "分析感知机模型的三要素<br>\n",
    "模型定义:<br>一组决策函数的集合 F = {f | y = f(X)}。\n",
    "其中f(X)可以表示为: f(X) = sign(W*X + b)\n",
    "$$\n",
    "sign(x) = \n",
    "\\left\\{ \n",
    "\\begin{array}{c}\n",
    " 1,  x >=0  \\\\ \n",
    "-1,  x < 0\n",
    "\\end{array}\n",
    "\\right. \n",
    "$$\n",
    "\n",
    "策略:<br>因为解决函数中存在着无数W和b的解，所以需要确定评估W,b值的方法,在感知机算法中选择的损失函数为:\n",
    "$$ min L(W,b) = -\\sum_{m=0}^i y{_i}*(W*X + b) \\text{，m表示所有错误分类点的集合} $$\n",
    "上面的公式解释为最小化错误分类的点到直线的距离。只要预测错误，那么y*(W*x+b)一定是异号，上面的求解结果一定是个正数，我们的目标是最小化上面的式子。之所以不适用Log损失函数是因为sign函数并不是连续可导的函数，不方便求最小值。\n",
    "\n",
    "算法:<br>\n",
    "这里的优化目标是找到一组W，b的值最小化损失函数的值，因为函数是连续的可导的，所以可以使用梯度下降的方法更新权重，更新公式如下:\n",
    "$$\n",
    "\\begin{cases}\n",
    "dW = dW + r * y{_i} * x{_i} \\\\ \n",
    "db = db + r * y{_i}\n",
    "\\end{cases}\n",
    "$$\n",
    "具体在代码实现的时候可以使用批量梯度下降的方法(BGD)或者随机梯度下降(SGD),没有太大的差别，这里代码实现的是SGD的方法。"
   ]
  },
  {
   "cell_type": "code",
   "execution_count": 22,
   "metadata": {
    "scrolled": true
   },
   "outputs": [
    {
     "name": "stdout",
     "output_type": "stream",
     "text": [
      "[ 0.  4.] -19\n"
     ]
    }
   ],
   "source": [
    "# 初始化权重\n",
    "W = np.zeros(2)\n",
    "b = 0\n",
    "\n",
    "# 定义激活函数，当大于等于0时激活函数输出为1，小于0时输出为-1\n",
    "def active_function(z):\n",
    "    return 1 if z >=0 else -1\n",
    "\n",
    "while True:\n",
    "    flag = 1\n",
    "    for i in points:\n",
    "        t = np.sum(W * i[:2]) + b\n",
    "        a = active_function(t)\n",
    "        # 当预测结果与标签不一致时代表预测错误需要更新权重\n",
    "        if (a * i[2]) < 0:\n",
    "            W[0] = W[0] + i[2]*i[0]\n",
    "            W[1] = W[1] + i[2]*i[1]\n",
    "            b = b + i[2]\n",
    "            flag=0\n",
    "    if (flag) == 1:\n",
    "        break\n",
    "print (W,b)"
   ]
  },
  {
   "cell_type": "markdown",
   "metadata": {},
   "source": [
    "### 根据求出的权重，绘制出decision boundary\n",
    "$0*x{_1} + 4*{_2} -19 = 0 \\text {, 权重值依次为0, 4, -19}$ "
   ]
  },
  {
   "cell_type": "code",
   "execution_count": 23,
   "metadata": {},
   "outputs": [
    {
     "data": {
      "image/png": "[encoded data removed]",
      "text/plain": [
       "<matplotlib.figure.Figure at 0x115b56a20>"
      ]
     },
     "metadata": {},
     "output_type": "display_data"
    }
   ],
   "source": [
    "plt.plot(x1_true, x2_true, 'o')\n",
    "plt.plot(x1_false, x2_false, 'o')\n",
    "plt.plot([0,10], [19/4,19/4])\n",
    "plt.show()"
   ]
  }
 ],
 "metadata": {
  "kernelspec": {
   "display_name": "Python 3",
   "language": "python",
   "name": "python3"
  },
  "language_info": {
   "codemirror_mode": {
    "name": "ipython",
    "version": 3
   },
   "file_extension": ".py",
   "mimetype": "text/x-python",
   "name": "python",
   "nbconvert_exporter": "python",
   "pygments_lexer": "ipython3",
   "version": "3.6.2"
  }
 },
 "nbformat": 4,
 "nbformat_minor": 2
}
